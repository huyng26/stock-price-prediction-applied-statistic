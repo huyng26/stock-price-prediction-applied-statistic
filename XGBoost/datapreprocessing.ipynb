{
 "cells": [
  {
   "cell_type": "code",
   "execution_count": 1,
   "metadata": {},
   "outputs": [],
   "source": [
    "import os\n",
    "import pandas as pd\n",
    "import numpy as np\n",
    "import matplotlib.pyplot as plt\n",
    "import math\n",
    "import datetime as dt\n",
    "\n",
    "from xgboost import XGBRegressor\n",
    "from sklearn.svm import SVR\n",
    "from sklearn.metrics import mean_squared_error, mean_absolute_error, r2_score \n",
    "from sklearn.metrics import mean_poisson_deviance, mean_gamma_deviance, accuracy_score\n",
    "from sklearn.preprocessing import MinMaxScaler, StandardScaler\n",
    "from sklearn.model_selection import learning_curve, train_test_split\n",
    "\n",
    "from itertools import cycle\n",
    "import plotly.graph_objects as go\n",
    "import plotly.express as px\n",
    "from plotly.subplots import make_subplots\n",
    "from tqdm import tqdm\n",
    "\n",
    "import seaborn as sns\n",
    "sns.set_style('whitegrid')\n",
    "plt.style.use(\"fivethirtyeight\")\n",
    "%matplotlib inline\n",
    "\n",
    "import warnings\n",
    "warnings.filterwarnings(\"ignore\")\n"
   ]
  },
  {
   "cell_type": "markdown",
   "metadata": {},
   "source": [
    "## Load dataset"
   ]
  },
  {
   "cell_type": "code",
   "execution_count": 2,
   "metadata": {},
   "outputs": [],
   "source": [
    "df = pd.read_csv('../Dataset/FPT.csv')"
   ]
  },
  {
   "cell_type": "code",
   "execution_count": 3,
   "metadata": {},
   "outputs": [],
   "source": [
    "df = df.sort_values(by='date', ascending=True).reset_index(drop=True)"
   ]
  },
  {
   "cell_type": "code",
   "execution_count": 4,
   "metadata": {},
   "outputs": [
    {
     "data": {
      "text/html": [
       "<div>\n",
       "<style scoped>\n",
       "    .dataframe tbody tr th:only-of-type {\n",
       "        vertical-align: middle;\n",
       "    }\n",
       "\n",
       "    .dataframe tbody tr th {\n",
       "        vertical-align: top;\n",
       "    }\n",
       "\n",
       "    .dataframe thead th {\n",
       "        text-align: right;\n",
       "    }\n",
       "</style>\n",
       "<table border=\"1\" class=\"dataframe\">\n",
       "  <thead>\n",
       "    <tr style=\"text-align: right;\">\n",
       "      <th></th>\n",
       "      <th>date</th>\n",
       "      <th>close</th>\n",
       "      <th>volume</th>\n",
       "      <th>open</th>\n",
       "      <th>high</th>\n",
       "      <th>low</th>\n",
       "    </tr>\n",
       "  </thead>\n",
       "  <tbody>\n",
       "    <tr>\n",
       "      <th>0</th>\n",
       "      <td>2006-12-13</td>\n",
       "      <td>11.4372</td>\n",
       "      <td>83530</td>\n",
       "      <td>11.4372</td>\n",
       "      <td>11.4372</td>\n",
       "      <td>11.4372</td>\n",
       "    </tr>\n",
       "    <tr>\n",
       "      <th>1</th>\n",
       "      <td>2006-12-14</td>\n",
       "      <td>12.0091</td>\n",
       "      <td>280710</td>\n",
       "      <td>12.0091</td>\n",
       "      <td>12.0091</td>\n",
       "      <td>12.0091</td>\n",
       "    </tr>\n",
       "    <tr>\n",
       "      <th>2</th>\n",
       "      <td>2006-12-15</td>\n",
       "      <td>12.6095</td>\n",
       "      <td>265300</td>\n",
       "      <td>12.6095</td>\n",
       "      <td>12.6095</td>\n",
       "      <td>12.6095</td>\n",
       "    </tr>\n",
       "    <tr>\n",
       "      <th>3</th>\n",
       "      <td>2006-12-18</td>\n",
       "      <td>13.2386</td>\n",
       "      <td>215790</td>\n",
       "      <td>13.2386</td>\n",
       "      <td>13.2386</td>\n",
       "      <td>13.2386</td>\n",
       "    </tr>\n",
       "    <tr>\n",
       "      <th>4</th>\n",
       "      <td>2006-12-19</td>\n",
       "      <td>13.8962</td>\n",
       "      <td>137520</td>\n",
       "      <td>13.8962</td>\n",
       "      <td>13.8962</td>\n",
       "      <td>13.8962</td>\n",
       "    </tr>\n",
       "    <tr>\n",
       "      <th>...</th>\n",
       "      <td>...</td>\n",
       "      <td>...</td>\n",
       "      <td>...</td>\n",
       "      <td>...</td>\n",
       "      <td>...</td>\n",
       "      <td>...</td>\n",
       "    </tr>\n",
       "    <tr>\n",
       "      <th>4573</th>\n",
       "      <td>2025-04-23</td>\n",
       "      <td>110.4000</td>\n",
       "      <td>5710800</td>\n",
       "      <td>111.7000</td>\n",
       "      <td>111.7000</td>\n",
       "      <td>107.7000</td>\n",
       "    </tr>\n",
       "    <tr>\n",
       "      <th>4574</th>\n",
       "      <td>2025-04-24</td>\n",
       "      <td>112.0000</td>\n",
       "      <td>7740100</td>\n",
       "      <td>111.5000</td>\n",
       "      <td>113.7000</td>\n",
       "      <td>110.6000</td>\n",
       "    </tr>\n",
       "    <tr>\n",
       "      <th>4575</th>\n",
       "      <td>2025-04-25</td>\n",
       "      <td>112.4000</td>\n",
       "      <td>5384100</td>\n",
       "      <td>112.0000</td>\n",
       "      <td>112.4000</td>\n",
       "      <td>110.2000</td>\n",
       "    </tr>\n",
       "    <tr>\n",
       "      <th>4576</th>\n",
       "      <td>2025-04-28</td>\n",
       "      <td>109.5000</td>\n",
       "      <td>3853700</td>\n",
       "      <td>112.0000</td>\n",
       "      <td>112.4000</td>\n",
       "      <td>109.2000</td>\n",
       "    </tr>\n",
       "    <tr>\n",
       "      <th>4577</th>\n",
       "      <td>2025-04-29</td>\n",
       "      <td>109.4000</td>\n",
       "      <td>2945500</td>\n",
       "      <td>109.6000</td>\n",
       "      <td>110.5000</td>\n",
       "      <td>109.1000</td>\n",
       "    </tr>\n",
       "  </tbody>\n",
       "</table>\n",
       "<p>4578 rows × 6 columns</p>\n",
       "</div>"
      ],
      "text/plain": [
       "            date     close   volume      open      high       low\n",
       "0     2006-12-13   11.4372    83530   11.4372   11.4372   11.4372\n",
       "1     2006-12-14   12.0091   280710   12.0091   12.0091   12.0091\n",
       "2     2006-12-15   12.6095   265300   12.6095   12.6095   12.6095\n",
       "3     2006-12-18   13.2386   215790   13.2386   13.2386   13.2386\n",
       "4     2006-12-19   13.8962   137520   13.8962   13.8962   13.8962\n",
       "...          ...       ...      ...       ...       ...       ...\n",
       "4573  2025-04-23  110.4000  5710800  111.7000  111.7000  107.7000\n",
       "4574  2025-04-24  112.0000  7740100  111.5000  113.7000  110.6000\n",
       "4575  2025-04-25  112.4000  5384100  112.0000  112.4000  110.2000\n",
       "4576  2025-04-28  109.5000  3853700  112.0000  112.4000  109.2000\n",
       "4577  2025-04-29  109.4000  2945500  109.6000  110.5000  109.1000\n",
       "\n",
       "[4578 rows x 6 columns]"
      ]
     },
     "execution_count": 4,
     "metadata": {},
     "output_type": "execute_result"
    }
   ],
   "source": [
    "df"
   ]
  },
  {
   "cell_type": "code",
   "execution_count": 5,
   "metadata": {},
   "outputs": [
    {
     "name": "stdout",
     "output_type": "stream",
     "text": [
      "<class 'pandas.core.frame.DataFrame'>\n",
      "RangeIndex: 4578 entries, 0 to 4577\n",
      "Data columns (total 6 columns):\n",
      " #   Column  Non-Null Count  Dtype  \n",
      "---  ------  --------------  -----  \n",
      " 0   date    4578 non-null   object \n",
      " 1   close   4578 non-null   float64\n",
      " 2   volume  4578 non-null   int64  \n",
      " 3   open    4578 non-null   float64\n",
      " 4   high    4578 non-null   float64\n",
      " 5   low     4578 non-null   float64\n",
      "dtypes: float64(4), int64(1), object(1)\n",
      "memory usage: 214.7+ KB\n"
     ]
    }
   ],
   "source": [
    "df.info()"
   ]
  },
  {
   "cell_type": "code",
   "execution_count": 6,
   "metadata": {},
   "outputs": [
    {
     "data": {
      "text/html": [
       "<div>\n",
       "<style scoped>\n",
       "    .dataframe tbody tr th:only-of-type {\n",
       "        vertical-align: middle;\n",
       "    }\n",
       "\n",
       "    .dataframe tbody tr th {\n",
       "        vertical-align: top;\n",
       "    }\n",
       "\n",
       "    .dataframe thead th {\n",
       "        text-align: right;\n",
       "    }\n",
       "</style>\n",
       "<table border=\"1\" class=\"dataframe\">\n",
       "  <thead>\n",
       "    <tr style=\"text-align: right;\">\n",
       "      <th></th>\n",
       "      <th>close</th>\n",
       "      <th>volume</th>\n",
       "      <th>open</th>\n",
       "      <th>high</th>\n",
       "      <th>low</th>\n",
       "    </tr>\n",
       "  </thead>\n",
       "  <tbody>\n",
       "    <tr>\n",
       "      <th>count</th>\n",
       "      <td>4578.000000</td>\n",
       "      <td>4.578000e+03</td>\n",
       "      <td>4578.000000</td>\n",
       "      <td>4578.000000</td>\n",
       "      <td>4578.000000</td>\n",
       "    </tr>\n",
       "    <tr>\n",
       "      <th>mean</th>\n",
       "      <td>26.421050</td>\n",
       "      <td>1.172694e+06</td>\n",
       "      <td>26.414890</td>\n",
       "      <td>26.697035</td>\n",
       "      <td>26.148572</td>\n",
       "    </tr>\n",
       "    <tr>\n",
       "      <th>std</th>\n",
       "      <td>33.127026</td>\n",
       "      <td>1.558003e+06</td>\n",
       "      <td>33.116514</td>\n",
       "      <td>33.459368</td>\n",
       "      <td>32.785950</td>\n",
       "    </tr>\n",
       "    <tr>\n",
       "      <th>min</th>\n",
       "      <td>2.106800</td>\n",
       "      <td>0.000000e+00</td>\n",
       "      <td>2.045554</td>\n",
       "      <td>2.154980</td>\n",
       "      <td>2.045554</td>\n",
       "    </tr>\n",
       "    <tr>\n",
       "      <th>25%</th>\n",
       "      <td>6.072000</td>\n",
       "      <td>2.500675e+05</td>\n",
       "      <td>6.093807</td>\n",
       "      <td>6.135568</td>\n",
       "      <td>6.046381</td>\n",
       "    </tr>\n",
       "    <tr>\n",
       "      <th>50%</th>\n",
       "      <td>11.192700</td>\n",
       "      <td>6.459900e+05</td>\n",
       "      <td>11.192703</td>\n",
       "      <td>11.295904</td>\n",
       "      <td>11.078595</td>\n",
       "    </tr>\n",
       "    <tr>\n",
       "      <th>75%</th>\n",
       "      <td>25.579700</td>\n",
       "      <td>1.540285e+06</td>\n",
       "      <td>25.567024</td>\n",
       "      <td>25.832963</td>\n",
       "      <td>25.420804</td>\n",
       "    </tr>\n",
       "    <tr>\n",
       "      <th>max</th>\n",
       "      <td>154.300000</td>\n",
       "      <td>2.157450e+07</td>\n",
       "      <td>154.100000</td>\n",
       "      <td>156.000000</td>\n",
       "      <td>153.400000</td>\n",
       "    </tr>\n",
       "  </tbody>\n",
       "</table>\n",
       "</div>"
      ],
      "text/plain": [
       "             close        volume         open         high          low\n",
       "count  4578.000000  4.578000e+03  4578.000000  4578.000000  4578.000000\n",
       "mean     26.421050  1.172694e+06    26.414890    26.697035    26.148572\n",
       "std      33.127026  1.558003e+06    33.116514    33.459368    32.785950\n",
       "min       2.106800  0.000000e+00     2.045554     2.154980     2.045554\n",
       "25%       6.072000  2.500675e+05     6.093807     6.135568     6.046381\n",
       "50%      11.192700  6.459900e+05    11.192703    11.295904    11.078595\n",
       "75%      25.579700  1.540285e+06    25.567024    25.832963    25.420804\n",
       "max     154.300000  2.157450e+07   154.100000   156.000000   153.400000"
      ]
     },
     "execution_count": 6,
     "metadata": {},
     "output_type": "execute_result"
    }
   ],
   "source": [
    "df.describe()\n"
   ]
  },
  {
   "cell_type": "markdown",
   "metadata": {},
   "source": [
    "## Data Cleaning"
   ]
  },
  {
   "cell_type": "code",
   "execution_count": 7,
   "metadata": {},
   "outputs": [],
   "source": [
    "df[\"date\"] = pd.to_datetime(df[\"date\"], format = \"%Y-%m-%d\")\n",
    "df = df.dropna()"
   ]
  },
  {
   "cell_type": "markdown",
   "metadata": {},
   "source": [
    "## Data Visualization"
   ]
  },
  {
   "cell_type": "code",
   "execution_count": 8,
   "metadata": {},
   "outputs": [
    {
     "data": {
      "image/png": "[encoded data removed]",
      "text/plain": [
       "<Figure size 1600x600 with 1 Axes>"
      ]
     },
     "metadata": {},
     "output_type": "display_data"
    }
   ],
   "source": [
    "plt.figure(figsize=(16,6))\n",
    "plt.title('Close Price History')\n",
    "plt.plot(df['close'])\n",
    "plt.xlabel('Date', fontsize=18)\n",
    "plt.ylabel('Close Price USD ($)', fontsize=18)\n",
    "plt.show()"
   ]
  },
  {
   "cell_type": "code",
   "execution_count": 9,
   "metadata": {},
   "outputs": [],
   "source": [
    "# Create a new dataframe\n",
    "data = df.filter(['close'])\n",
    "# Convert the dataframe to a numpy array\n",
    "dataset = data.values"
   ]
  },
  {
   "cell_type": "code",
   "execution_count": 10,
   "metadata": {},
   "outputs": [
    {
     "data": {
      "text/plain": [
       "array([[-0.45236438],\n",
       "       [-0.43509865],\n",
       "       [-0.41697249],\n",
       "       ...,\n",
       "       [ 2.59571575],\n",
       "       [ 2.50816437],\n",
       "       [ 2.50514535]], shape=(4578, 1))"
      ]
     },
     "execution_count": 10,
     "metadata": {},
     "output_type": "execute_result"
    }
   ],
   "source": [
    "# scaler = MinMaxScaler(feature_range=(0,1))\n",
    "scaler = StandardScaler()\n",
    "scaled_data = scaler.fit_transform(dataset)\n",
    "\n",
    "scaled_data"
   ]
  }
 ],
 "metadata": {
  "kernelspec": {
   "display_name": ".venv",
   "language": "python",
   "name": "python3"
  },
  "language_info": {
   "codemirror_mode": {
    "name": "ipython",
    "version": 3
   },
   "file_extension": ".py",
   "mimetype": "text/x-python",
   "name": "python",
   "nbconvert_exporter": "python",
   "pygments_lexer": "ipython3",
   "version": "3.10.11"
  }
 },
 "nbformat": 4,
 "nbformat_minor": 2
}
