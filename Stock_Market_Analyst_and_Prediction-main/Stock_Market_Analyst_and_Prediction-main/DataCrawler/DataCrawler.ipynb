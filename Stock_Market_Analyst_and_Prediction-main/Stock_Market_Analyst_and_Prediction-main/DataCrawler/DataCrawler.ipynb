{
 "cells": [
  {
   "cell_type": "code",
   "execution_count": null,
   "metadata": {},
   "outputs": [
    {
     "name": "stdout",
     "output_type": "stream",
     "text": [
      "            date    close    volume       open       high        low\n",
      "0     2025-05-07  25.4000  11501800  25.350000  25.500000  25.350000\n",
      "1     2025-05-06  25.4500  20937300  25.750000  26.050000  25.450000\n",
      "2     2025-05-05  25.7000  12548300  25.650000  25.750000  25.350000\n",
      "3     2025-04-29  25.5000  14467400  25.650000  25.700000  25.400000\n",
      "4     2025-04-28  25.6500   9757000  25.700000  25.700000  25.350000\n",
      "...          ...      ...       ...        ...        ...        ...\n",
      "4347  2007-11-21   2.1560    728080   1.985789   2.156000   1.985789\n",
      "4348  2007-11-20   2.0804     58710   2.080400   2.080400   2.080400\n",
      "4349  2007-11-19   2.1749    120480   2.174900   2.174900   2.174900\n",
      "4350  2007-11-16   2.2884    248510   2.288400   2.288400   2.288400\n",
      "4351  2007-11-15   2.4019   1306330   2.458638   2.458638   2.061473\n",
      "\n",
      "[4352 rows x 6 columns]\n"
     ]
    }
   ],
   "source": [
    "import requests\n",
    "import pandas as pd\n",
    "from datetime import datetime\n",
    "\n",
    "class DataCrawler:\n",
    "    def __init__(self, stock_symbol):\n",
    "        self.stock_symbol = stock_symbol\n",
    "        self.data = None\n",
    "\n",
    "    def get_data(self):\n",
    "        url = f'https://m.cafef.vn/du-lieu/ajax/StockChartV3.ashx?symbol={self.stock_symbol}'\n",
    "\n",
    "        response = requests.get(url)\n",
    "        data = response.json().get(\"price\", [])\n",
    "        data.reverse()\n",
    "        self.data = data\n",
    "        return self.data\n",
    "\n",
    "    def format_data(self):\n",
    "        self.data = self.get_data()\n",
    "        for data in self.data:\n",
    "            data[0] = datetime.utcfromtimestamp(data[0]).strftime('%Y-%m-%d')\n",
    "\n",
    "        df = pd.DataFrame(columns=[\"date\", \"close\", \"volume\", \"open\", \"high\", \"low\"], data=self.data)\n",
    "        return df\n",
    "\n",
    "    def save_data(self):\n",
    "        data = self.get_data(self.stock_symbol)\n",
    "        df = self.format_data(data)\n",
    "        df.to_csv(f\"{self.stock_symbol}.csv\", index=False)\n",
    "\n",
    "crawler = DataCrawler(\"HPG\")\n",
    "print(crawler.format_data())"
   ]
  }
 ],
 "metadata": {
  "kernelspec": {
   "display_name": "python_310_env",
   "language": "python",
   "name": "python3"
  },
  "language_info": {
   "codemirror_mode": {
    "name": "ipython",
    "version": 3
   },
   "file_extension": ".py",
   "mimetype": "text/x-python",
   "name": "python",
   "nbconvert_exporter": "python",
   "pygments_lexer": "ipython3",
   "version": "3.10.13"
  }
 },
 "nbformat": 4,
 "nbformat_minor": 2
}
